{
 "cells": [
  {
   "cell_type": "markdown",
   "metadata": {},
   "source": [
    "# Porter Stemmer Algorithm\n",
    "## Natural Language Processing\n",
    "__Anish Sachdeva__\n",
    "\n",
    "__DTU/2K16/MC/013__"
   ]
  },
  {
   "cell_type": "markdown",
   "metadata": {},
   "source": [
    "The Porter Stemmer Algorithm is used very heavily and ubiquitously in the field of Natural Language Processing (NLP) It is used for the morphological analysis of words to find their stems. \n",
    "\n",
    "The stem of a word is the main part also referred to as the root.\n",
    "E.g Happy → happi, dogs → dog, cats → cat, sunny day → sunni day etc.\n",
    "\n",
    "We find these morphological roots for the tasks of information extraction, information retrieval and also searching data in a big corpus of information.\n",
    "\n",
    "To impliment the Porter stemmer algorithm and the various steps it follows we first need to impliment a few utilit functions."
   ]
  },
  {
   "cell_type": "markdown",
   "metadata": {},
   "source": [
    "We need to determine whether a given letter is a vowel in or a consonant. There are 26 alphabets in the english alphabet out of which 5 are vowels; __a__, __e__, __i__, __o__ and __u__"
   ]
  },
  {
   "cell_type": "code",
   "execution_count": 3,
   "metadata": {},
   "outputs": [],
   "source": [
    "vowels = ('a', 'e', 'i', 'o', 'u')\n",
    "def is_vowel(letter):\n",
    "    return letter in vowels;"
   ]
  },
  {
   "cell_type": "code",
   "execution_count": 4,
   "metadata": {},
   "outputs": [
    {
     "name": "stdout",
     "output_type": "stream",
     "text": [
      "True\n"
     ]
    }
   ],
   "source": [
    "# test with any alphabet in the following snippet\n",
    "print(is_vowel('a'));"
   ]
  },
  {
   "cell_type": "markdown",
   "metadata": {},
   "source": [
    "In the Porter stemmer algorith consonants are detected using a special machanism and sometime sdepending on teh context (surrounding leters) __y__ may also be  a vowel. To determing whether an alphabet at index `index` in string `word` is a consonant or not we impliment the following. We also take an integer `start` which denotes the starting index of the word in the string `word` which can represent a big corpora."
   ]
  },
  {
   "cell_type": "code",
   "execution_count": 10,
   "metadata": {},
   "outputs": [],
   "source": [
    "    def is_consonant(word, index, start):\n",
    "        \"\"\":returns True if word[index] is a consonant.\"\"\"\n",
    "        if is_vowel(word[index]):\n",
    "            return False\n",
    "        if word[index] == 'y':\n",
    "            if index == start:\n",
    "                return True\n",
    "            else:\n",
    "                return not is_consonant(word, index - 1, start)\n",
    "        return True"
   ]
  },
  {
   "cell_type": "code",
   "execution_count": 8,
   "metadata": {},
   "outputs": [
    {
     "name": "stdout",
     "output_type": "stream",
     "text": [
      "False\n"
     ]
    }
   ],
   "source": [
    "print(is_consonant('hello', 4, 0))"
   ]
  },
  {
   "cell_type": "code",
   "execution_count": 11,
   "metadata": {},
   "outputs": [
    {
     "name": "stdout",
     "output_type": "stream",
     "text": [
      "False\n"
     ]
    }
   ],
   "source": [
    "print(is_consonant('pony', 3, 0))"
   ]
  },
  {
   "cell_type": "code",
   "execution_count": 13,
   "metadata": {},
   "outputs": [
    {
     "name": "stdout",
     "output_type": "stream",
     "text": [
      "True\n"
     ]
    }
   ],
   "source": [
    "print(is_consonant('test', 2, 0))"
   ]
  },
  {
   "cell_type": "markdown",
   "metadata": {},
   "source": [
    "In the Porter Stemmer Algorithm, we need to have a measure of the the number of times a Vowel and Consonent sequence occurs. if c is a consonant sequence and v a vowel sequence, and <..> indicates arbitrary presence,\n",
    "\n",
    "           <c><v>       gives 0\n",
    "           <c>vc<v>     gives 1\n",
    "           <c>vcvc<v>   gives 2\n",
    "           <c>vcvcvc<v> gives 3\n",
    "\n",
    "we create a method m() which will measure this in a given string."
   ]
  },
  {
   "cell_type": "code",
   "execution_count": 28,
   "metadata": {},
   "outputs": [],
   "source": [
    "    def m(word):\n",
    "        n = 0\n",
    "        i = 0\n",
    "        offset = len(word) - 1\n",
    "        start = 0\n",
    "        while True:\n",
    "            if i > offset:\n",
    "                return n\n",
    "            if not is_consonant(word, i, start):\n",
    "                break\n",
    "            i += 1\n",
    "        i += 1\n",
    "        while True:\n",
    "            while True:\n",
    "                if i > offset:\n",
    "                    return n\n",
    "                if is_consonant(word, i, start):\n",
    "                    break\n",
    "                i += 1\n",
    "            i += 1\n",
    "            n += 1\n",
    "            while True:\n",
    "                if i > offset:\n",
    "                    return n\n",
    "                if not is_consonant(word, i, start):\n",
    "                    break\n",
    "                i += 1\n",
    "            i += 1"
   ]
  },
  {
   "cell_type": "code",
   "execution_count": 39,
   "metadata": {},
   "outputs": [
    {
     "name": "stdout",
     "output_type": "stream",
     "text": [
      "tree 0\n",
      "oats 1\n",
      "trees 1\n",
      "troubles 2\n",
      "private 2\n"
     ]
    }
   ],
   "source": [
    "for word in ['tree', 'oats', 'trees', 'troubles', 'private']:\n",
    "    print(word, m(word))"
   ]
  },
  {
   "cell_type": "markdown",
   "metadata": {},
   "source": [
    "We need to detrmine whether a given string contains a vowel or not and here even a consonant can be treated as a vowel such as __y__ in the range (start, offset). We canwrite this function as follows."
   ]
  },
  {
   "cell_type": "code",
   "execution_count": 48,
   "metadata": {},
   "outputs": [],
   "source": [
    "def contains_vowel(word, start, offset):\n",
    "    for i in range(start, offset + 1):\n",
    "        if not is_consonant(word, i, 0):\n",
    "            return True\n",
    "    return False"
   ]
  },
  {
   "cell_type": "code",
   "execution_count": 53,
   "metadata": {},
   "outputs": [
    {
     "name": "stdout",
     "output_type": "stream",
     "text": [
      "False\n"
     ]
    }
   ],
   "source": [
    "print(contains_vowel('test', 0, 0))"
   ]
  },
  {
   "cell_type": "code",
   "execution_count": 54,
   "metadata": {},
   "outputs": [
    {
     "name": "stdout",
     "output_type": "stream",
     "text": [
      "True\n"
     ]
    }
   ],
   "source": [
    "print(contains_vowel('test', 0, 2))"
   ]
  },
  {
   "cell_type": "markdown",
   "metadata": {},
   "source": [
    "We need to determine whether a word contains a double consonant in the word or or not in a given range (offset, start) "
   ]
  },
  {
   "cell_type": "code",
   "execution_count": 64,
   "metadata": {},
   "outputs": [],
   "source": [
    "def contains_double_consonant(word, offset, start):\n",
    "    \"\"\":returns TRUE if the word contain a double consonant in the range [offset, start]\"\"\"\n",
    "    if offset < (start + 1):\n",
    "        return False\n",
    "    if word[offset] != word[offset - 1]:\n",
    "        return False\n",
    "    return is_consonant(word, offset, 0)"
   ]
  },
  {
   "cell_type": "code",
   "execution_count": 65,
   "metadata": {},
   "outputs": [
    {
     "name": "stdout",
     "output_type": "stream",
     "text": [
      "True\n"
     ]
    }
   ],
   "source": [
    "print(contains_double_consonant('dropped', 4, 0))"
   ]
  },
  {
   "cell_type": "markdown",
   "metadata": {},
   "source": [
    "Now, we need to define a function that can help is in identifying CVC forms suchthat we have a consonant-vowel-consonant and the consonant is not __x__, __y__ or __z__. e.g. _cav(e)_ , _lov(e)_ , _hop(e)_ , _crim(e)_ etc. and not _snow_ , _box_ , _tray_ ... etc."
   ]
  },
  {
   "cell_type": "code",
   "execution_count": 72,
   "metadata": {},
   "outputs": [],
   "source": [
    "    def is_of_form_cvc(word, start, i):\n",
    "        if i < (start + 2) or not is_consonant(word, i, 0) or is_consonant(word, i - 1, 0) or not is_consonant(word, i - 2, 0):\n",
    "            return False\n",
    "        ch = word[i]\n",
    "        if ch == 'w' or ch == 'x' or ch == 'y':\n",
    "            return False\n",
    "        return True"
   ]
  },
  {
   "cell_type": "code",
   "execution_count": 73,
   "metadata": {},
   "outputs": [
    {
     "name": "stdout",
     "output_type": "stream",
     "text": [
      "True\n"
     ]
    }
   ],
   "source": [
    "print(is_of_form_cvc('bat', 0, 2))"
   ]
  },
  {
   "cell_type": "code",
   "execution_count": 74,
   "metadata": {},
   "outputs": [
    {
     "name": "stdout",
     "output_type": "stream",
     "text": [
      "False\n"
     ]
    }
   ],
   "source": [
    "print(is_of_form_cvc('snow', 0, 3))"
   ]
  },
  {
   "cell_type": "markdown",
   "metadata": {},
   "source": [
    "The porter stemmer algorithm follows the following steps.\n",
    "\n",
    "## Step 1 A\n",
    "The following word endings (suffixes) are transformed to other word endings.\n",
    "\n",
    "SSES → SS\n",
    "\n",
    "IES → I\n",
    "\n",
    "SS → SS\n",
    "\n",
    "S → &epsilon;\n",
    "\n",
    "## Step 1 B\n",
    "(m > 0) EED → EE\n",
    "\n",
    "ED → &epsilon;\n",
    "\n",
    "ING → &epsilon;\n",
    "\n",
    "If the second or the third rule are successful then the following need to be done.\n",
    "\n",
    "AT → ATE\n",
    "\n",
    "BL → BLE\n",
    "\n",
    "IZ → IZE\n",
    "\n",
    "Both these steps are joined in a single function that can be implimented in python as below."
   ]
  }
 ],
 "metadata": {
  "kernelspec": {
   "display_name": "Python 3",
   "language": "python",
   "name": "python3"
  },
  "language_info": {
   "codemirror_mode": {
    "name": "ipython",
    "version": 3
   },
   "file_extension": ".py",
   "mimetype": "text/x-python",
   "name": "python",
   "nbconvert_exporter": "python",
   "pygments_lexer": "ipython3",
   "version": "3.7.8"
  }
 },
 "nbformat": 4,
 "nbformat_minor": 4
}
