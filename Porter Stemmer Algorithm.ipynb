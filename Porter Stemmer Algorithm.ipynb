{
 "cells": [
  {
   "cell_type": "markdown",
   "metadata": {},
   "source": [
    "# Porter Stemmer Algorithm\n",
    "## Natural Language Processing\n",
    "__Anish Sachdeva__\n",
    "\n",
    "__DTU/2K16/MC/013__"
   ]
  },
  {
   "cell_type": "markdown",
   "metadata": {},
   "source": [
    "The Porter Stemmer Algorithm is used very heavily and ubiquitously in the field of Natural Language Processing (NLP) It is used for the morphological analysis of words to find their stems. \n",
    "\n",
    "The stem of a word is the main part also referred to as the root.\n",
    "E.g Happy → happi, dogs → dog, cats → cat, sunny day → sunni day etc.\n",
    "\n",
    "We find these morphological roots for the tasks of information extraction, information retrieval and also searching data in a big corpus of information.\n",
    "\n",
    "To impliment the Porter stemmer algorithm and the various steps it follows we first need to impliment a few utilit functions."
   ]
  },
  {
   "cell_type": "markdown",
   "metadata": {},
   "source": [
    "We need to determine whether a given letter is a vowel in or a consonant. There are 26 alphabets in the english alphabet out of which 5 are vowels; __a__, __e__, __i__, __o__ and __u__"
   ]
  },
  {
   "cell_type": "code",
   "execution_count": 3,
   "metadata": {},
   "outputs": [],
   "source": [
    "vowels = ('a', 'e', 'i', 'o', 'u')\n",
    "def is_vowel(letter):\n",
    "    return letter in vowels;"
   ]
  },
  {
   "cell_type": "code",
   "execution_count": 4,
   "metadata": {},
   "outputs": [
    {
     "name": "stdout",
     "output_type": "stream",
     "text": [
      "True\n"
     ]
    }
   ],
   "source": [
    "# test with any alphabet in the following snippet\n",
    "print(is_vowel('a'));"
   ]
  },
  {
   "cell_type": "markdown",
   "metadata": {},
   "source": [
    "In the Porter stemmer algorith consonants are detected using a special machanism and sometime sdepending on teh context (surrounding leters) __y__ may also be  a vowel. To determing whether an alphabet at index `index` in string `word` is a consonant or not we impliment the following. We also take an integer `start` which denotes the starting index of the word in the string `word` which can represent a big corpora."
   ]
  },
  {
   "cell_type": "code",
   "execution_count": 10,
   "metadata": {},
   "outputs": [],
   "source": [
    "    def is_consonant(word, index, start):\n",
    "        \"\"\":returns True if word[index] is a consonant.\"\"\"\n",
    "        if is_vowel(word[index]):\n",
    "            return False\n",
    "        if word[index] == 'y':\n",
    "            if index == start:\n",
    "                return True\n",
    "            else:\n",
    "                return not is_consonant(word, index - 1, start)\n",
    "        return True"
   ]
  },
  {
   "cell_type": "code",
   "execution_count": 8,
   "metadata": {},
   "outputs": [
    {
     "name": "stdout",
     "output_type": "stream",
     "text": [
      "False\n"
     ]
    }
   ],
   "source": [
    "print(is_consonant('hello', 4, 0))"
   ]
  },
  {
   "cell_type": "code",
   "execution_count": 11,
   "metadata": {},
   "outputs": [
    {
     "name": "stdout",
     "output_type": "stream",
     "text": [
      "False\n"
     ]
    }
   ],
   "source": [
    "print(is_consonant('pony', 3, 0))"
   ]
  },
  {
   "cell_type": "code",
   "execution_count": 12,
   "metadata": {},
   "outputs": [
    {
     "name": "stdout",
     "output_type": "stream",
     "text": [
      "True\n"
     ]
    }
   ],
   "source": [
    "print(is_consonant('test', 2, 0))"
   ]
  },
  {
   "cell_type": "markdown",
   "metadata": {},
   "source": [
    "The porter stemmer algorithm follows the following steps.\n",
    "\n",
    "## Step 1 A\n",
    "The following word endings (suffixes) are transformed to other word endings.\n",
    "\n",
    "SSES → SS\n",
    "\n",
    "IES → I\n",
    "\n",
    "SS → SS\n",
    "\n",
    "S → &epsilon;\n",
    "\n",
    "## Step 1 B\n",
    "(m > 0) EED → EE\n",
    "\n",
    "ED → &epsilon;\n",
    "\n",
    "ING → &epsilon;\n",
    "\n",
    "If the second or the third rule are successful then the following need to be done.\n",
    "\n",
    "AT → ATE\n",
    "\n",
    "BL → BLE\n",
    "\n",
    "IZ → IZE\n",
    "\n",
    "Both these steps are joined in a single function that can be implimented in python as below."
   ]
  }
 ],
 "metadata": {
  "kernelspec": {
   "display_name": "Python 3",
   "language": "python",
   "name": "python3"
  },
  "language_info": {
   "codemirror_mode": {
    "name": "ipython",
    "version": 3
   },
   "file_extension": ".py",
   "mimetype": "text/x-python",
   "name": "python",
   "nbconvert_exporter": "python",
   "pygments_lexer": "ipython3",
   "version": "3.7.8"
  }
 },
 "nbformat": 4,
 "nbformat_minor": 4
}
